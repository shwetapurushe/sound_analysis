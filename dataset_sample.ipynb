{
 "cells": [
  {
   "cell_type": "markdown",
   "metadata": {},
   "source": [
    "# GOAL \n",
    "\n",
    "The original dataset is very large.  \n",
    "Generating a list of 200 sample songs and creating a dataset for their spectrograms.  "
   ]
  },
  {
   "cell_type": "code",
   "execution_count": 153,
   "metadata": {},
   "outputs": [],
   "source": [
    "import pandas as pd\n",
    "import re\n",
    "import numpy as np\n",
    "import random"
   ]
  },
  {
   "cell_type": "code",
   "execution_count": 137,
   "metadata": {},
   "outputs": [],
   "source": [
    "df = pd.read_csv(\"tagger_tutorial_dataset/index.csv\", header=0)"
   ]
  },
  {
   "cell_type": "code",
   "execution_count": 138,
   "metadata": {},
   "outputs": [
    {
     "data": {
      "text/html": [
       "<div>\n",
       "<style scoped>\n",
       "    .dataframe tbody tr th:only-of-type {\n",
       "        vertical-align: middle;\n",
       "    }\n",
       "\n",
       "    .dataframe tbody tr th {\n",
       "        vertical-align: top;\n",
       "    }\n",
       "\n",
       "    .dataframe thead th {\n",
       "        text-align: right;\n",
       "    }\n",
       "</style>\n",
       "<table border=\"1\" class=\"dataframe\">\n",
       "  <thead>\n",
       "    <tr style=\"text-align: right;\">\n",
       "      <th></th>\n",
       "      <th>start</th>\n",
       "      <th>end</th>\n",
       "      <th>name</th>\n",
       "      <th>spectrogram</th>\n",
       "      <th>Angry</th>\n",
       "      <th>Busy &amp; Frantic</th>\n",
       "      <th>Casino</th>\n",
       "      <th>Changing Tempo</th>\n",
       "      <th>Chasing</th>\n",
       "      <th>Countryside</th>\n",
       "      <th>...</th>\n",
       "      <th>Sentimental</th>\n",
       "      <th>Sexy</th>\n",
       "      <th>Smooth</th>\n",
       "      <th>Sneaking</th>\n",
       "      <th>Snowy Holiday</th>\n",
       "      <th>Sports Arena</th>\n",
       "      <th>Sunny Holiday</th>\n",
       "      <th>Suspense</th>\n",
       "      <th>Water</th>\n",
       "      <th>Weird</th>\n",
       "    </tr>\n",
       "  </thead>\n",
       "  <tbody>\n",
       "    <tr>\n",
       "      <th>0</th>\n",
       "      <td>61.453417</td>\n",
       "      <td>91.453417</td>\n",
       "      <td>100 Years</td>\n",
       "      <td>1/100 Years.png</td>\n",
       "      <td>0</td>\n",
       "      <td>0</td>\n",
       "      <td>0</td>\n",
       "      <td>0</td>\n",
       "      <td>0</td>\n",
       "      <td>0</td>\n",
       "      <td>...</td>\n",
       "      <td>0</td>\n",
       "      <td>0</td>\n",
       "      <td>0</td>\n",
       "      <td>0</td>\n",
       "      <td>0</td>\n",
       "      <td>0</td>\n",
       "      <td>0</td>\n",
       "      <td>0</td>\n",
       "      <td>0</td>\n",
       "      <td>0</td>\n",
       "    </tr>\n",
       "    <tr>\n",
       "      <th>1</th>\n",
       "      <td>123.559667</td>\n",
       "      <td>153.559667</td>\n",
       "      <td>1901</td>\n",
       "      <td>1/1901.png</td>\n",
       "      <td>0</td>\n",
       "      <td>0</td>\n",
       "      <td>0</td>\n",
       "      <td>0</td>\n",
       "      <td>0</td>\n",
       "      <td>0</td>\n",
       "      <td>...</td>\n",
       "      <td>0</td>\n",
       "      <td>0</td>\n",
       "      <td>0</td>\n",
       "      <td>0</td>\n",
       "      <td>0</td>\n",
       "      <td>0</td>\n",
       "      <td>0</td>\n",
       "      <td>0</td>\n",
       "      <td>0</td>\n",
       "      <td>0</td>\n",
       "    </tr>\n",
       "    <tr>\n",
       "      <th>2</th>\n",
       "      <td>29.937750</td>\n",
       "      <td>59.937750</td>\n",
       "      <td>3 AM</td>\n",
       "      <td>3/3 AM.png</td>\n",
       "      <td>0</td>\n",
       "      <td>0</td>\n",
       "      <td>0</td>\n",
       "      <td>0</td>\n",
       "      <td>0</td>\n",
       "      <td>0</td>\n",
       "      <td>...</td>\n",
       "      <td>1</td>\n",
       "      <td>0</td>\n",
       "      <td>0</td>\n",
       "      <td>0</td>\n",
       "      <td>0</td>\n",
       "      <td>0</td>\n",
       "      <td>0</td>\n",
       "      <td>0</td>\n",
       "      <td>0</td>\n",
       "      <td>0</td>\n",
       "    </tr>\n",
       "    <tr>\n",
       "      <th>3</th>\n",
       "      <td>48.711000</td>\n",
       "      <td>78.711000</td>\n",
       "      <td>3 Corners</td>\n",
       "      <td>3/3 Corners.png</td>\n",
       "      <td>0</td>\n",
       "      <td>0</td>\n",
       "      <td>0</td>\n",
       "      <td>0</td>\n",
       "      <td>0</td>\n",
       "      <td>0</td>\n",
       "      <td>...</td>\n",
       "      <td>0</td>\n",
       "      <td>0</td>\n",
       "      <td>0</td>\n",
       "      <td>0</td>\n",
       "      <td>0</td>\n",
       "      <td>0</td>\n",
       "      <td>0</td>\n",
       "      <td>0</td>\n",
       "      <td>0</td>\n",
       "      <td>0</td>\n",
       "    </tr>\n",
       "    <tr>\n",
       "      <th>4</th>\n",
       "      <td>69.059250</td>\n",
       "      <td>99.059250</td>\n",
       "      <td>300 Years Old</td>\n",
       "      <td>3/300 Years Old.png</td>\n",
       "      <td>0</td>\n",
       "      <td>0</td>\n",
       "      <td>0</td>\n",
       "      <td>0</td>\n",
       "      <td>0</td>\n",
       "      <td>0</td>\n",
       "      <td>...</td>\n",
       "      <td>0</td>\n",
       "      <td>0</td>\n",
       "      <td>0</td>\n",
       "      <td>0</td>\n",
       "      <td>0</td>\n",
       "      <td>0</td>\n",
       "      <td>0</td>\n",
       "      <td>0</td>\n",
       "      <td>0</td>\n",
       "      <td>0</td>\n",
       "    </tr>\n",
       "  </tbody>\n",
       "</table>\n",
       "<p>5 rows × 50 columns</p>\n",
       "</div>"
      ],
      "text/plain": [
       "        start         end           name          spectrogram  Angry  \\\n",
       "0   61.453417   91.453417      100 Years      1/100 Years.png      0   \n",
       "1  123.559667  153.559667           1901           1/1901.png      0   \n",
       "2   29.937750   59.937750           3 AM           3/3 AM.png      0   \n",
       "3   48.711000   78.711000      3 Corners      3/3 Corners.png      0   \n",
       "4   69.059250   99.059250  300 Years Old  3/300 Years Old.png      0   \n",
       "\n",
       "   Busy & Frantic  Casino  Changing Tempo  Chasing  Countryside  ...  \\\n",
       "0               0       0               0        0            0  ...   \n",
       "1               0       0               0        0            0  ...   \n",
       "2               0       0               0        0            0  ...   \n",
       "3               0       0               0        0            0  ...   \n",
       "4               0       0               0        0            0  ...   \n",
       "\n",
       "   Sentimental  Sexy  Smooth  Sneaking  Snowy Holiday  Sports Arena  \\\n",
       "0            0     0       0         0              0             0   \n",
       "1            0     0       0         0              0             0   \n",
       "2            1     0       0         0              0             0   \n",
       "3            0     0       0         0              0             0   \n",
       "4            0     0       0         0              0             0   \n",
       "\n",
       "   Sunny Holiday  Suspense  Water  Weird  \n",
       "0              0         0      0      0  \n",
       "1              0         0      0      0  \n",
       "2              0         0      0      0  \n",
       "3              0         0      0      0  \n",
       "4              0         0      0      0  \n",
       "\n",
       "[5 rows x 50 columns]"
      ]
     },
     "execution_count": 138,
     "metadata": {},
     "output_type": "execute_result"
    }
   ],
   "source": [
    "df.head()"
   ]
  },
  {
   "cell_type": "code",
   "execution_count": 139,
   "metadata": {},
   "outputs": [
    {
     "data": {
      "text/html": [
       "<div>\n",
       "<style scoped>\n",
       "    .dataframe tbody tr th:only-of-type {\n",
       "        vertical-align: middle;\n",
       "    }\n",
       "\n",
       "    .dataframe tbody tr th {\n",
       "        vertical-align: top;\n",
       "    }\n",
       "\n",
       "    .dataframe thead th {\n",
       "        text-align: right;\n",
       "    }\n",
       "</style>\n",
       "<table border=\"1\" class=\"dataframe\">\n",
       "  <thead>\n",
       "    <tr style=\"text-align: right;\">\n",
       "      <th></th>\n",
       "      <th>name</th>\n",
       "      <th>spectrogram</th>\n",
       "    </tr>\n",
       "  </thead>\n",
       "  <tbody>\n",
       "    <tr>\n",
       "      <th>0</th>\n",
       "      <td>100 Years</td>\n",
       "      <td>1/100 Years.png</td>\n",
       "    </tr>\n",
       "    <tr>\n",
       "      <th>1</th>\n",
       "      <td>1901</td>\n",
       "      <td>1/1901.png</td>\n",
       "    </tr>\n",
       "    <tr>\n",
       "      <th>2</th>\n",
       "      <td>3 AM</td>\n",
       "      <td>3/3 AM.png</td>\n",
       "    </tr>\n",
       "    <tr>\n",
       "      <th>3</th>\n",
       "      <td>3 Corners</td>\n",
       "      <td>3/3 Corners.png</td>\n",
       "    </tr>\n",
       "    <tr>\n",
       "      <th>4</th>\n",
       "      <td>300 Years Old</td>\n",
       "      <td>3/300 Years Old.png</td>\n",
       "    </tr>\n",
       "  </tbody>\n",
       "</table>\n",
       "</div>"
      ],
      "text/plain": [
       "            name          spectrogram\n",
       "0      100 Years      1/100 Years.png\n",
       "1           1901           1/1901.png\n",
       "2           3 AM           3/3 AM.png\n",
       "3      3 Corners      3/3 Corners.png\n",
       "4  300 Years Old  3/300 Years Old.png"
      ]
     },
     "execution_count": 139,
     "metadata": {},
     "output_type": "execute_result"
    }
   ],
   "source": [
    "#Looking into the names of songs \n",
    "# we will be sampling only certain songs, so have to pick up all the spectograms belonging to that song. \n",
    "df.loc[:, [\"name\", \"spectrogram\"]].head()"
   ]
  },
  {
   "cell_type": "code",
   "execution_count": 140,
   "metadata": {},
   "outputs": [
    {
     "data": {
      "text/html": [
       "<div>\n",
       "<style scoped>\n",
       "    .dataframe tbody tr th:only-of-type {\n",
       "        vertical-align: middle;\n",
       "    }\n",
       "\n",
       "    .dataframe tbody tr th {\n",
       "        vertical-align: top;\n",
       "    }\n",
       "\n",
       "    .dataframe thead th {\n",
       "        text-align: right;\n",
       "    }\n",
       "</style>\n",
       "<table border=\"1\" class=\"dataframe\">\n",
       "  <thead>\n",
       "    <tr style=\"text-align: right;\">\n",
       "      <th></th>\n",
       "      <th>name</th>\n",
       "      <th>spectrogram</th>\n",
       "    </tr>\n",
       "  </thead>\n",
       "  <tbody>\n",
       "    <tr>\n",
       "      <th>20581</th>\n",
       "      <td>100 Days Of Sunshine 1</td>\n",
       "      <td>1/100 Days Of Sunshine 1.png</td>\n",
       "    </tr>\n",
       "    <tr>\n",
       "      <th>20582</th>\n",
       "      <td>100 Days Of Sunshine 2</td>\n",
       "      <td>1/100 Days Of Sunshine 2.png</td>\n",
       "    </tr>\n",
       "    <tr>\n",
       "      <th>20717</th>\n",
       "      <td>100 Days Of Sunshine 3</td>\n",
       "      <td>1/100 Days Of Sunshine 3.png</td>\n",
       "    </tr>\n",
       "    <tr>\n",
       "      <th>0</th>\n",
       "      <td>100 Years</td>\n",
       "      <td>1/100 Years.png</td>\n",
       "    </tr>\n",
       "    <tr>\n",
       "      <th>25559</th>\n",
       "      <td>15s In A Trunk</td>\n",
       "      <td>1/15s In A Trunk.png</td>\n",
       "    </tr>\n",
       "  </tbody>\n",
       "</table>\n",
       "</div>"
      ],
      "text/plain": [
       "                         name                   spectrogram\n",
       "20581  100 Days Of Sunshine 1  1/100 Days Of Sunshine 1.png\n",
       "20582  100 Days Of Sunshine 2  1/100 Days Of Sunshine 2.png\n",
       "20717  100 Days Of Sunshine 3  1/100 Days Of Sunshine 3.png\n",
       "0                   100 Years               1/100 Years.png\n",
       "25559          15s In A Trunk          1/15s In A Trunk.png"
      ]
     },
     "execution_count": 140,
     "metadata": {},
     "output_type": "execute_result"
    }
   ],
   "source": [
    "df = df.sort_values(by='name', axis = 0)\n",
    "df.loc[:, [\"name\", \"spectrogram\"]].head()"
   ]
  },
  {
   "cell_type": "code",
   "execution_count": 146,
   "metadata": {},
   "outputs": [
    {
     "data": {
      "text/html": [
       "<div>\n",
       "<style scoped>\n",
       "    .dataframe tbody tr th:only-of-type {\n",
       "        vertical-align: middle;\n",
       "    }\n",
       "\n",
       "    .dataframe tbody tr th {\n",
       "        vertical-align: top;\n",
       "    }\n",
       "\n",
       "    .dataframe thead th {\n",
       "        text-align: right;\n",
       "    }\n",
       "</style>\n",
       "<table border=\"1\" class=\"dataframe\">\n",
       "  <thead>\n",
       "    <tr style=\"text-align: right;\">\n",
       "      <th></th>\n",
       "      <th>name</th>\n",
       "      <th>spectrogram</th>\n",
       "      <th>title</th>\n",
       "    </tr>\n",
       "  </thead>\n",
       "  <tbody>\n",
       "    <tr>\n",
       "      <th>20581</th>\n",
       "      <td>100 Days Of Sunshine 1</td>\n",
       "      <td>1/100 Days Of Sunshine 1.png</td>\n",
       "      <td>100 Days Of Sunshine</td>\n",
       "    </tr>\n",
       "    <tr>\n",
       "      <th>20582</th>\n",
       "      <td>100 Days Of Sunshine 2</td>\n",
       "      <td>1/100 Days Of Sunshine 2.png</td>\n",
       "      <td>100 Days Of Sunshine</td>\n",
       "    </tr>\n",
       "    <tr>\n",
       "      <th>20717</th>\n",
       "      <td>100 Days Of Sunshine 3</td>\n",
       "      <td>1/100 Days Of Sunshine 3.png</td>\n",
       "      <td>100 Days Of Sunshine</td>\n",
       "    </tr>\n",
       "    <tr>\n",
       "      <th>0</th>\n",
       "      <td>100 Years</td>\n",
       "      <td>1/100 Years.png</td>\n",
       "      <td>100 Years</td>\n",
       "    </tr>\n",
       "    <tr>\n",
       "      <th>25559</th>\n",
       "      <td>15s In A Trunk</td>\n",
       "      <td>1/15s In A Trunk.png</td>\n",
       "      <td>15s In A Trunk</td>\n",
       "    </tr>\n",
       "  </tbody>\n",
       "</table>\n",
       "</div>"
      ],
      "text/plain": [
       "                         name                   spectrogram  \\\n",
       "20581  100 Days Of Sunshine 1  1/100 Days Of Sunshine 1.png   \n",
       "20582  100 Days Of Sunshine 2  1/100 Days Of Sunshine 2.png   \n",
       "20717  100 Days Of Sunshine 3  1/100 Days Of Sunshine 3.png   \n",
       "0                   100 Years               1/100 Years.png   \n",
       "25559          15s In A Trunk          1/15s In A Trunk.png   \n",
       "\n",
       "                       title  \n",
       "20581  100 Days Of Sunshine   \n",
       "20582  100 Days Of Sunshine   \n",
       "20717  100 Days Of Sunshine   \n",
       "0                  100 Years  \n",
       "25559         15s In A Trunk  "
      ]
     },
     "execution_count": 146,
     "metadata": {},
     "output_type": "execute_result"
    }
   ],
   "source": [
    "df[\"title\"] = df.name.str.extract(r'(^[0-9a-z]+[^0-9]*)', re.IGNORECASE)\n",
    "#df.title = df.title.str.strip()\n",
    "df.loc[:, [\"name\", \"spectrogram\", \"title\"]].head()"
   ]
  },
  {
   "cell_type": "code",
   "execution_count": 147,
   "metadata": {},
   "outputs": [
    {
     "name": "stdout",
     "output_type": "stream",
     "text": [
      "Number of unique songs is : 13100\n"
     ]
    }
   ],
   "source": [
    "song_titles = df.title.unique().tolist()\n",
    "print(f'Number of unique songs is : {len(song_titles)}')"
   ]
  },
  {
   "cell_type": "markdown",
   "metadata": {},
   "source": [
    "<br/>\n",
    "\n",
    "Lets sample ~200 songs and then we'll go fetch their spectograms. Some songs have several spectrograms. "
   ]
  },
  {
   "cell_type": "code",
   "execution_count": 151,
   "metadata": {},
   "outputs": [],
   "source": [
    "n_songs = 200 # number of songs to sample"
   ]
  },
  {
   "cell_type": "code",
   "execution_count": 172,
   "metadata": {},
   "outputs": [],
   "source": [
    "#random.seed(42)\n",
    "sample_songs = sample(song_titles, n_songs)"
   ]
  },
  {
   "cell_type": "code",
   "execution_count": 245,
   "metadata": {},
   "outputs": [
    {
     "data": {
      "text/plain": [
       "['The Experiment (Indie Pop Version)',\n",
       " 'Swap Meet',\n",
       " 'Heavy Hearts',\n",
       " 'Mystic Riff',\n",
       " 'House Of Go',\n",
       " 'Walk To Prison Cell',\n",
       " 'Behind The Clouds ',\n",
       " 'A New Day Begins',\n",
       " 'Name Tag',\n",
       " 'Stellar Finale']"
      ]
     },
     "execution_count": 245,
     "metadata": {},
     "output_type": "execute_result"
    }
   ],
   "source": [
    "sample_songs[0:10]"
   ]
  },
  {
   "cell_type": "code",
   "execution_count": 247,
   "metadata": {},
   "outputs": [],
   "source": [
    "#locations of the spectrograms of the sampled songs \n",
    "sample_spectrograms = df[df['title'].isin(sample_songs)]\n",
    "sample_spectrograms = sample_spectrograms.sort_values(by= 'title', axis=0)"
   ]
  },
  {
   "cell_type": "markdown",
   "metadata": {},
   "source": [
    "<br/>\n",
    "\n",
    "Lets go fetch their spectrogram images and put them in a separate dataset called sample_dataset_200."
   ]
  },
  {
   "cell_type": "code",
   "execution_count": 249,
   "metadata": {},
   "outputs": [
    {
     "data": {
      "text/html": [
       "<div>\n",
       "<style scoped>\n",
       "    .dataframe tbody tr th:only-of-type {\n",
       "        vertical-align: middle;\n",
       "    }\n",
       "\n",
       "    .dataframe tbody tr th {\n",
       "        vertical-align: top;\n",
       "    }\n",
       "\n",
       "    .dataframe thead th {\n",
       "        text-align: right;\n",
       "    }\n",
       "</style>\n",
       "<table border=\"1\" class=\"dataframe\">\n",
       "  <thead>\n",
       "    <tr style=\"text-align: right;\">\n",
       "      <th></th>\n",
       "      <th>title</th>\n",
       "      <th>spectrogram</th>\n",
       "    </tr>\n",
       "  </thead>\n",
       "  <tbody>\n",
       "    <tr>\n",
       "      <th>4576</th>\n",
       "      <td>60's Secretary</td>\n",
       "      <td>6/60's Secretary.png</td>\n",
       "    </tr>\n",
       "    <tr>\n",
       "      <th>19667</th>\n",
       "      <td>A Brighter Form Of Life</td>\n",
       "      <td>A/A Brighter Form Of Life 1.png</td>\n",
       "    </tr>\n",
       "    <tr>\n",
       "      <th>19779</th>\n",
       "      <td>A Brighter Form Of Life</td>\n",
       "      <td>A/A Brighter Form Of Life 2.png</td>\n",
       "    </tr>\n",
       "    <tr>\n",
       "      <th>24978</th>\n",
       "      <td>A Long Way From Home</td>\n",
       "      <td>A/A Long Way From Home.png</td>\n",
       "    </tr>\n",
       "    <tr>\n",
       "      <th>38</th>\n",
       "      <td>A New Day Begins</td>\n",
       "      <td>A/A New Day Begins.png</td>\n",
       "    </tr>\n",
       "    <tr>\n",
       "      <th>18401</th>\n",
       "      <td>A New Frontier</td>\n",
       "      <td>A/A New Frontier 1.png</td>\n",
       "    </tr>\n",
       "    <tr>\n",
       "      <th>18402</th>\n",
       "      <td>A New Frontier</td>\n",
       "      <td>A/A New Frontier 2.png</td>\n",
       "    </tr>\n",
       "    <tr>\n",
       "      <th>18403</th>\n",
       "      <td>A New Frontier</td>\n",
       "      <td>A/A New Frontier 3.png</td>\n",
       "    </tr>\n",
       "    <tr>\n",
       "      <th>107</th>\n",
       "      <td>Aftertouch</td>\n",
       "      <td>A/Aftertouch.png</td>\n",
       "    </tr>\n",
       "    <tr>\n",
       "      <th>11519</th>\n",
       "      <td>Agressive And Dark</td>\n",
       "      <td>A/Agressive And Dark 2.png</td>\n",
       "    </tr>\n",
       "  </tbody>\n",
       "</table>\n",
       "</div>"
      ],
      "text/plain": [
       "                          title                      spectrogram\n",
       "4576             60's Secretary             6/60's Secretary.png\n",
       "19667  A Brighter Form Of Life   A/A Brighter Form Of Life 1.png\n",
       "19779  A Brighter Form Of Life   A/A Brighter Form Of Life 2.png\n",
       "24978      A Long Way From Home       A/A Long Way From Home.png\n",
       "38             A New Day Begins           A/A New Day Begins.png\n",
       "18401           A New Frontier            A/A New Frontier 1.png\n",
       "18402           A New Frontier            A/A New Frontier 2.png\n",
       "18403           A New Frontier            A/A New Frontier 3.png\n",
       "107                  Aftertouch                 A/Aftertouch.png\n",
       "11519       Agressive And Dark        A/Agressive And Dark 2.png"
      ]
     },
     "execution_count": 249,
     "metadata": {},
     "output_type": "execute_result"
    }
   ],
   "source": [
    "sample_spectrograms.loc[:, [\"title\", \"spectrogram\"]].head(10)"
   ]
  },
  {
   "cell_type": "code",
   "execution_count": 253,
   "metadata": {},
   "outputs": [
    {
     "name": "stdout",
     "output_type": "stream",
     "text": [
      "Going to copy over 401 songs to the sample dataset\n"
     ]
    }
   ],
   "source": [
    "sample_specs = sample_spectrograms.spectrogram.tolist()\n",
    "print(f'Going to copy over {len(sample_specs)} songs to the sample dataset')"
   ]
  },
  {
   "cell_type": "code",
   "execution_count": 254,
   "metadata": {},
   "outputs": [],
   "source": [
    "with open('sample_spectrograms.txt', 'w') as filehandle:\n",
    "    for spec in sample_specs:\n",
    "        filehandle.write('%s\\n' % spec)"
   ]
  },
  {
   "cell_type": "code",
   "execution_count": 255,
   "metadata": {},
   "outputs": [
    {
     "name": "stdout",
     "output_type": "stream",
     "text": [
      "Deleting older dataset\n",
      "Creating a new dataset\n",
      "       1\n"
     ]
    }
   ],
   "source": [
    "%%bash\n",
    "\n",
    "if [ -d sample_dataset_200 ] ; then\n",
    "    rm -r sample_dataset_200\n",
    "    echo \"Deleting older dataset\"\n",
    "fi\n",
    "\n",
    "mkdir -p sample_dataset_200\n",
    "echo \"Creating a new dataset\"\n",
    "\n",
    "while IFS= read -r file; \n",
    "    do cp tagger_tutorial_dataset/\"$file\" sample_dataset_200; \n",
    "done < sample_spectrograms.txt"
   ]
  },
  {
   "cell_type": "code",
   "execution_count": 256,
   "metadata": {},
   "outputs": [
    {
     "name": "stdout",
     "output_type": "stream",
     "text": [
      "     401\n"
     ]
    }
   ],
   "source": [
    "%%bash\n",
    "ls sample_dataset_200/ | wc -l"
   ]
  },
  {
   "cell_type": "code",
   "execution_count": null,
   "metadata": {},
   "outputs": [],
   "source": []
  }
 ],
 "metadata": {
  "kernelspec": {
   "display_name": "Python 3",
   "language": "python",
   "name": "python3"
  },
  "language_info": {
   "codemirror_mode": {
    "name": "ipython",
    "version": 3
   },
   "file_extension": ".py",
   "mimetype": "text/x-python",
   "name": "python",
   "nbconvert_exporter": "python",
   "pygments_lexer": "ipython3",
   "version": "3.6.1"
  },
  "widgets": {
   "application/vnd.jupyter.widget-state+json": {
    "state": {},
    "version_major": 2,
    "version_minor": 0
   }
  }
 },
 "nbformat": 4,
 "nbformat_minor": 4
}
